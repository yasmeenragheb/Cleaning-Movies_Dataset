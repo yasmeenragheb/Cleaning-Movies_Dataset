{
  "cells": [
    {
      "cell_type": "markdown",
      "metadata": {
        "id": "UHYbbboFCFnj"
      },
      "source": [
        "#**Project: Cleaning [9000+ Movies Dataset]**"
      ]
    },
    {
      "cell_type": "markdown",
      "metadata": {
        "id": "b-VvpcTqCcMf"
      },
      "source": [
        "#Features of the dataset:\n",
        "* **Release_Date**: Date when the movie was released.\n",
        "* **Title**: Name of the movie.\n",
        "* **Overview**: Brief summary of the movie.\n",
        "* **Popularity**: It is a very important metric computed by TMDB developers based on the number of views per day, votes per day, number of users marked it as \"favorite\" and \"watchlist\" for the data, release date and more other metrics.\n",
        "* **Vote_Count**: Total votes received from the viewers.\n",
        "* **Vote_Average**: Average rating based on vote count and the number of viewers out of 10.\n",
        "* **Original_Language**: Original language of the movies. Dubbed version is not considered to be original language.\n",
        "* **Genre**: Categories the movie it can be classified as.\n",
        "* **Poster_Url**: Url of the movie poster.\n"
      ]
    },
    {
      "cell_type": "markdown",
      "metadata": {
        "id": "g8inlV8tDjVh"
      },
      "source": [
        "#Import libraries"
      ]
    },
    {
      "cell_type": "code",
      "execution_count": 31,
      "metadata": {
        "id": "zQw2J-q3G3Sz"
      },
      "outputs": [],
      "source": [
        "import pandas as pd\n",
        "import numpy as np\n",
        "import matplotlib.pyplot as plt\n",
        "import seaborn as sns"
      ]
    },
    {
      "cell_type": "markdown",
      "metadata": {
        "id": "nwog89mtF8ci"
      },
      "source": [
        "#load Data"
      ]
    },
    {
      "cell_type": "code",
      "execution_count": 32,
      "metadata": {
        "colab": {
          "base_uri": "https://localhost:8080/",
          "height": 337
        },
        "id": "XS1gui-zGF6j",
        "outputId": "b71e77ff-20be-409d-b762-eccaea89b639"
      },
      "outputs": [
        {
          "output_type": "execute_result",
          "data": {
            "text/plain": [
              "  Release_Date                    Title  \\\n",
              "0   2021-12-15  Spider-Man: No Way Home   \n",
              "1   2022-03-01               The Batman   \n",
              "2   2022-02-25                  No Exit   \n",
              "3   2021-11-24                  Encanto   \n",
              "4   2021-12-22           The King's Man   \n",
              "\n",
              "                                            Overview  Popularity  Vote_Count  \\\n",
              "0  Peter Parker is unmasked and no longer able to...    5083.954        8940   \n",
              "1  In his second year of fighting crime, Batman u...    3827.658        1151   \n",
              "2  Stranded at a rest stop in the mountains durin...    2618.087         122   \n",
              "3  The tale of an extraordinary family, the Madri...    2402.201        5076   \n",
              "4  As a collection of history's worst tyrants and...    1895.511        1793   \n",
              "\n",
              "   Vote_Average Original_Language                               Genre  \\\n",
              "0           8.3                en  Action, Adventure, Science Fiction   \n",
              "1           8.1                en            Crime, Mystery, Thriller   \n",
              "2           6.3                en                            Thriller   \n",
              "3           7.7                en  Animation, Comedy, Family, Fantasy   \n",
              "4           7.0                en    Action, Adventure, Thriller, War   \n",
              "\n",
              "                                          Poster_Url  \n",
              "0  https://image.tmdb.org/t/p/original/1g0dhYtq4i...  \n",
              "1  https://image.tmdb.org/t/p/original/74xTEgt7R3...  \n",
              "2  https://image.tmdb.org/t/p/original/vDHsLnOWKl...  \n",
              "3  https://image.tmdb.org/t/p/original/4j0PNHkMr5...  \n",
              "4  https://image.tmdb.org/t/p/original/aq4Pwv5Xeu...  "
            ],
            "text/html": [
              "\n",
              "  <div id=\"df-9bf5c794-cb84-4aa1-bc36-6fbd582ab325\">\n",
              "    <div class=\"colab-df-container\">\n",
              "      <div>\n",
              "<style scoped>\n",
              "    .dataframe tbody tr th:only-of-type {\n",
              "        vertical-align: middle;\n",
              "    }\n",
              "\n",
              "    .dataframe tbody tr th {\n",
              "        vertical-align: top;\n",
              "    }\n",
              "\n",
              "    .dataframe thead th {\n",
              "        text-align: right;\n",
              "    }\n",
              "</style>\n",
              "<table border=\"1\" class=\"dataframe\">\n",
              "  <thead>\n",
              "    <tr style=\"text-align: right;\">\n",
              "      <th></th>\n",
              "      <th>Release_Date</th>\n",
              "      <th>Title</th>\n",
              "      <th>Overview</th>\n",
              "      <th>Popularity</th>\n",
              "      <th>Vote_Count</th>\n",
              "      <th>Vote_Average</th>\n",
              "      <th>Original_Language</th>\n",
              "      <th>Genre</th>\n",
              "      <th>Poster_Url</th>\n",
              "    </tr>\n",
              "  </thead>\n",
              "  <tbody>\n",
              "    <tr>\n",
              "      <th>0</th>\n",
              "      <td>2021-12-15</td>\n",
              "      <td>Spider-Man: No Way Home</td>\n",
              "      <td>Peter Parker is unmasked and no longer able to...</td>\n",
              "      <td>5083.954</td>\n",
              "      <td>8940</td>\n",
              "      <td>8.3</td>\n",
              "      <td>en</td>\n",
              "      <td>Action, Adventure, Science Fiction</td>\n",
              "      <td>https://image.tmdb.org/t/p/original/1g0dhYtq4i...</td>\n",
              "    </tr>\n",
              "    <tr>\n",
              "      <th>1</th>\n",
              "      <td>2022-03-01</td>\n",
              "      <td>The Batman</td>\n",
              "      <td>In his second year of fighting crime, Batman u...</td>\n",
              "      <td>3827.658</td>\n",
              "      <td>1151</td>\n",
              "      <td>8.1</td>\n",
              "      <td>en</td>\n",
              "      <td>Crime, Mystery, Thriller</td>\n",
              "      <td>https://image.tmdb.org/t/p/original/74xTEgt7R3...</td>\n",
              "    </tr>\n",
              "    <tr>\n",
              "      <th>2</th>\n",
              "      <td>2022-02-25</td>\n",
              "      <td>No Exit</td>\n",
              "      <td>Stranded at a rest stop in the mountains durin...</td>\n",
              "      <td>2618.087</td>\n",
              "      <td>122</td>\n",
              "      <td>6.3</td>\n",
              "      <td>en</td>\n",
              "      <td>Thriller</td>\n",
              "      <td>https://image.tmdb.org/t/p/original/vDHsLnOWKl...</td>\n",
              "    </tr>\n",
              "    <tr>\n",
              "      <th>3</th>\n",
              "      <td>2021-11-24</td>\n",
              "      <td>Encanto</td>\n",
              "      <td>The tale of an extraordinary family, the Madri...</td>\n",
              "      <td>2402.201</td>\n",
              "      <td>5076</td>\n",
              "      <td>7.7</td>\n",
              "      <td>en</td>\n",
              "      <td>Animation, Comedy, Family, Fantasy</td>\n",
              "      <td>https://image.tmdb.org/t/p/original/4j0PNHkMr5...</td>\n",
              "    </tr>\n",
              "    <tr>\n",
              "      <th>4</th>\n",
              "      <td>2021-12-22</td>\n",
              "      <td>The King's Man</td>\n",
              "      <td>As a collection of history's worst tyrants and...</td>\n",
              "      <td>1895.511</td>\n",
              "      <td>1793</td>\n",
              "      <td>7.0</td>\n",
              "      <td>en</td>\n",
              "      <td>Action, Adventure, Thriller, War</td>\n",
              "      <td>https://image.tmdb.org/t/p/original/aq4Pwv5Xeu...</td>\n",
              "    </tr>\n",
              "  </tbody>\n",
              "</table>\n",
              "</div>\n",
              "      <button class=\"colab-df-convert\" onclick=\"convertToInteractive('df-9bf5c794-cb84-4aa1-bc36-6fbd582ab325')\"\n",
              "              title=\"Convert this dataframe to an interactive table.\"\n",
              "              style=\"display:none;\">\n",
              "        \n",
              "  <svg xmlns=\"http://www.w3.org/2000/svg\" height=\"24px\"viewBox=\"0 0 24 24\"\n",
              "       width=\"24px\">\n",
              "    <path d=\"M0 0h24v24H0V0z\" fill=\"none\"/>\n",
              "    <path d=\"M18.56 5.44l.94 2.06.94-2.06 2.06-.94-2.06-.94-.94-2.06-.94 2.06-2.06.94zm-11 1L8.5 8.5l.94-2.06 2.06-.94-2.06-.94L8.5 2.5l-.94 2.06-2.06.94zm10 10l.94 2.06.94-2.06 2.06-.94-2.06-.94-.94-2.06-.94 2.06-2.06.94z\"/><path d=\"M17.41 7.96l-1.37-1.37c-.4-.4-.92-.59-1.43-.59-.52 0-1.04.2-1.43.59L10.3 9.45l-7.72 7.72c-.78.78-.78 2.05 0 2.83L4 21.41c.39.39.9.59 1.41.59.51 0 1.02-.2 1.41-.59l7.78-7.78 2.81-2.81c.8-.78.8-2.07 0-2.86zM5.41 20L4 18.59l7.72-7.72 1.47 1.35L5.41 20z\"/>\n",
              "  </svg>\n",
              "      </button>\n",
              "      \n",
              "  <style>\n",
              "    .colab-df-container {\n",
              "      display:flex;\n",
              "      flex-wrap:wrap;\n",
              "      gap: 12px;\n",
              "    }\n",
              "\n",
              "    .colab-df-convert {\n",
              "      background-color: #E8F0FE;\n",
              "      border: none;\n",
              "      border-radius: 50%;\n",
              "      cursor: pointer;\n",
              "      display: none;\n",
              "      fill: #1967D2;\n",
              "      height: 32px;\n",
              "      padding: 0 0 0 0;\n",
              "      width: 32px;\n",
              "    }\n",
              "\n",
              "    .colab-df-convert:hover {\n",
              "      background-color: #E2EBFA;\n",
              "      box-shadow: 0px 1px 2px rgba(60, 64, 67, 0.3), 0px 1px 3px 1px rgba(60, 64, 67, 0.15);\n",
              "      fill: #174EA6;\n",
              "    }\n",
              "\n",
              "    [theme=dark] .colab-df-convert {\n",
              "      background-color: #3B4455;\n",
              "      fill: #D2E3FC;\n",
              "    }\n",
              "\n",
              "    [theme=dark] .colab-df-convert:hover {\n",
              "      background-color: #434B5C;\n",
              "      box-shadow: 0px 1px 3px 1px rgba(0, 0, 0, 0.15);\n",
              "      filter: drop-shadow(0px 1px 2px rgba(0, 0, 0, 0.3));\n",
              "      fill: #FFFFFF;\n",
              "    }\n",
              "  </style>\n",
              "\n",
              "      <script>\n",
              "        const buttonEl =\n",
              "          document.querySelector('#df-9bf5c794-cb84-4aa1-bc36-6fbd582ab325 button.colab-df-convert');\n",
              "        buttonEl.style.display =\n",
              "          google.colab.kernel.accessAllowed ? 'block' : 'none';\n",
              "\n",
              "        async function convertToInteractive(key) {\n",
              "          const element = document.querySelector('#df-9bf5c794-cb84-4aa1-bc36-6fbd582ab325');\n",
              "          const dataTable =\n",
              "            await google.colab.kernel.invokeFunction('convertToInteractive',\n",
              "                                                     [key], {});\n",
              "          if (!dataTable) return;\n",
              "\n",
              "          const docLinkHtml = 'Like what you see? Visit the ' +\n",
              "            '<a target=\"_blank\" href=https://colab.research.google.com/notebooks/data_table.ipynb>data table notebook</a>'\n",
              "            + ' to learn more about interactive tables.';\n",
              "          element.innerHTML = '';\n",
              "          dataTable['output_type'] = 'display_data';\n",
              "          await google.colab.output.renderOutput(dataTable, element);\n",
              "          const docLink = document.createElement('div');\n",
              "          docLink.innerHTML = docLinkHtml;\n",
              "          element.appendChild(docLink);\n",
              "        }\n",
              "      </script>\n",
              "    </div>\n",
              "  </div>\n",
              "  "
            ]
          },
          "metadata": {},
          "execution_count": 32
        }
      ],
      "source": [
        "#load data and viewing its first 5 rows\n",
        "df = pd.read_csv(\"mymoviedb.csv\",  lineterminator='\\n')\n",
        "df.head()"
      ]
    },
    {
      "cell_type": "markdown",
      "metadata": {
        "id": "qpw-XBDymvzz"
      },
      "source": [
        "#Data Wrangling"
      ]
    },
    {
      "cell_type": "code",
      "execution_count": 33,
      "metadata": {
        "colab": {
          "base_uri": "https://localhost:8080/"
        },
        "id": "Lg4UqPQUq7XN",
        "outputId": "a8d155bf-ad72-4265-9b47-cea3f925e8fc"
      },
      "outputs": [
        {
          "output_type": "execute_result",
          "data": {
            "text/plain": [
              "(9827, 9)"
            ]
          },
          "metadata": {},
          "execution_count": 33
        }
      ],
      "source": [
        "#Get the number of rows and columns in the dataset\n",
        "df.shape"
      ]
    },
    {
      "cell_type": "code",
      "execution_count": 5,
      "metadata": {
        "colab": {
          "base_uri": "https://localhost:8080/"
        },
        "id": "96c0vbrkm3P-",
        "outputId": "3ee2dd41-2015-4ae1-ec4e-d7ce48614cab"
      },
      "outputs": [
        {
          "output_type": "stream",
          "name": "stdout",
          "text": [
            "<class 'pandas.core.frame.DataFrame'>\n",
            "RangeIndex: 9827 entries, 0 to 9826\n",
            "Data columns (total 9 columns):\n",
            " #   Column             Non-Null Count  Dtype  \n",
            "---  ------             --------------  -----  \n",
            " 0   Release_Date       9827 non-null   object \n",
            " 1   Title              9827 non-null   object \n",
            " 2   Overview           9827 non-null   object \n",
            " 3   Popularity         9827 non-null   float64\n",
            " 4   Vote_Count         9827 non-null   int64  \n",
            " 5   Vote_Average       9827 non-null   float64\n",
            " 6   Original_Language  9827 non-null   object \n",
            " 7   Genre              9827 non-null   object \n",
            " 8   Poster_Url         9827 non-null   object \n",
            "dtypes: float64(2), int64(1), object(6)\n",
            "memory usage: 691.1+ KB\n"
          ]
        }
      ],
      "source": [
        "#Get dataset info\n",
        "df.info()"
      ]
    },
    {
      "cell_type": "code",
      "execution_count": 6,
      "metadata": {
        "colab": {
          "base_uri": "https://localhost:8080/"
        },
        "id": "qAkAaPFFoiqk",
        "outputId": "f6487fd1-b90f-40f8-8ea8-a19c1f837e77"
      },
      "outputs": [
        {
          "output_type": "execute_result",
          "data": {
            "text/plain": [
              "Release_Date         0\n",
              "Title                0\n",
              "Overview             0\n",
              "Popularity           0\n",
              "Vote_Count           0\n",
              "Vote_Average         0\n",
              "Original_Language    0\n",
              "Genre                0\n",
              "Poster_Url           0\n",
              "dtype: int64"
            ]
          },
          "metadata": {},
          "execution_count": 6
        }
      ],
      "source": [
        "#Check for missing values\n",
        "df.isna().sum()"
      ]
    },
    {
      "cell_type": "code",
      "execution_count": 7,
      "metadata": {
        "colab": {
          "base_uri": "https://localhost:8080/"
        },
        "id": "DvSGi9TSoiwq",
        "outputId": "43921a3c-fe7a-4f84-b389-fdc088fd1b3c"
      },
      "outputs": [
        {
          "output_type": "execute_result",
          "data": {
            "text/plain": [
              "0"
            ]
          },
          "metadata": {},
          "execution_count": 7
        }
      ],
      "source": [
        "#Check for duplicates\n",
        "df.duplicated().sum()"
      ]
    },
    {
      "cell_type": "code",
      "execution_count": 8,
      "metadata": {
        "colab": {
          "base_uri": "https://localhost:8080/",
          "height": 300
        },
        "id": "5K5YIn4WrRlr",
        "outputId": "3d9df7f8-2377-4372-a9c4-55d6de7913e8"
      },
      "outputs": [
        {
          "output_type": "execute_result",
          "data": {
            "text/plain": [
              "        Popularity    Vote_Count  Vote_Average\n",
              "count  9827.000000   9827.000000   9827.000000\n",
              "mean     40.326088   1392.805536      6.439534\n",
              "std     108.873998   2611.206907      1.129759\n",
              "min      13.354000      0.000000      0.000000\n",
              "25%      16.128500    146.000000      5.900000\n",
              "50%      21.199000    444.000000      6.500000\n",
              "75%      35.191500   1376.000000      7.100000\n",
              "max    5083.954000  31077.000000     10.000000"
            ],
            "text/html": [
              "\n",
              "  <div id=\"df-adc67079-ce83-4eb3-a579-01c5c5ed35f7\">\n",
              "    <div class=\"colab-df-container\">\n",
              "      <div>\n",
              "<style scoped>\n",
              "    .dataframe tbody tr th:only-of-type {\n",
              "        vertical-align: middle;\n",
              "    }\n",
              "\n",
              "    .dataframe tbody tr th {\n",
              "        vertical-align: top;\n",
              "    }\n",
              "\n",
              "    .dataframe thead th {\n",
              "        text-align: right;\n",
              "    }\n",
              "</style>\n",
              "<table border=\"1\" class=\"dataframe\">\n",
              "  <thead>\n",
              "    <tr style=\"text-align: right;\">\n",
              "      <th></th>\n",
              "      <th>Popularity</th>\n",
              "      <th>Vote_Count</th>\n",
              "      <th>Vote_Average</th>\n",
              "    </tr>\n",
              "  </thead>\n",
              "  <tbody>\n",
              "    <tr>\n",
              "      <th>count</th>\n",
              "      <td>9827.000000</td>\n",
              "      <td>9827.000000</td>\n",
              "      <td>9827.000000</td>\n",
              "    </tr>\n",
              "    <tr>\n",
              "      <th>mean</th>\n",
              "      <td>40.326088</td>\n",
              "      <td>1392.805536</td>\n",
              "      <td>6.439534</td>\n",
              "    </tr>\n",
              "    <tr>\n",
              "      <th>std</th>\n",
              "      <td>108.873998</td>\n",
              "      <td>2611.206907</td>\n",
              "      <td>1.129759</td>\n",
              "    </tr>\n",
              "    <tr>\n",
              "      <th>min</th>\n",
              "      <td>13.354000</td>\n",
              "      <td>0.000000</td>\n",
              "      <td>0.000000</td>\n",
              "    </tr>\n",
              "    <tr>\n",
              "      <th>25%</th>\n",
              "      <td>16.128500</td>\n",
              "      <td>146.000000</td>\n",
              "      <td>5.900000</td>\n",
              "    </tr>\n",
              "    <tr>\n",
              "      <th>50%</th>\n",
              "      <td>21.199000</td>\n",
              "      <td>444.000000</td>\n",
              "      <td>6.500000</td>\n",
              "    </tr>\n",
              "    <tr>\n",
              "      <th>75%</th>\n",
              "      <td>35.191500</td>\n",
              "      <td>1376.000000</td>\n",
              "      <td>7.100000</td>\n",
              "    </tr>\n",
              "    <tr>\n",
              "      <th>max</th>\n",
              "      <td>5083.954000</td>\n",
              "      <td>31077.000000</td>\n",
              "      <td>10.000000</td>\n",
              "    </tr>\n",
              "  </tbody>\n",
              "</table>\n",
              "</div>\n",
              "      <button class=\"colab-df-convert\" onclick=\"convertToInteractive('df-adc67079-ce83-4eb3-a579-01c5c5ed35f7')\"\n",
              "              title=\"Convert this dataframe to an interactive table.\"\n",
              "              style=\"display:none;\">\n",
              "        \n",
              "  <svg xmlns=\"http://www.w3.org/2000/svg\" height=\"24px\"viewBox=\"0 0 24 24\"\n",
              "       width=\"24px\">\n",
              "    <path d=\"M0 0h24v24H0V0z\" fill=\"none\"/>\n",
              "    <path d=\"M18.56 5.44l.94 2.06.94-2.06 2.06-.94-2.06-.94-.94-2.06-.94 2.06-2.06.94zm-11 1L8.5 8.5l.94-2.06 2.06-.94-2.06-.94L8.5 2.5l-.94 2.06-2.06.94zm10 10l.94 2.06.94-2.06 2.06-.94-2.06-.94-.94-2.06-.94 2.06-2.06.94z\"/><path d=\"M17.41 7.96l-1.37-1.37c-.4-.4-.92-.59-1.43-.59-.52 0-1.04.2-1.43.59L10.3 9.45l-7.72 7.72c-.78.78-.78 2.05 0 2.83L4 21.41c.39.39.9.59 1.41.59.51 0 1.02-.2 1.41-.59l7.78-7.78 2.81-2.81c.8-.78.8-2.07 0-2.86zM5.41 20L4 18.59l7.72-7.72 1.47 1.35L5.41 20z\"/>\n",
              "  </svg>\n",
              "      </button>\n",
              "      \n",
              "  <style>\n",
              "    .colab-df-container {\n",
              "      display:flex;\n",
              "      flex-wrap:wrap;\n",
              "      gap: 12px;\n",
              "    }\n",
              "\n",
              "    .colab-df-convert {\n",
              "      background-color: #E8F0FE;\n",
              "      border: none;\n",
              "      border-radius: 50%;\n",
              "      cursor: pointer;\n",
              "      display: none;\n",
              "      fill: #1967D2;\n",
              "      height: 32px;\n",
              "      padding: 0 0 0 0;\n",
              "      width: 32px;\n",
              "    }\n",
              "\n",
              "    .colab-df-convert:hover {\n",
              "      background-color: #E2EBFA;\n",
              "      box-shadow: 0px 1px 2px rgba(60, 64, 67, 0.3), 0px 1px 3px 1px rgba(60, 64, 67, 0.15);\n",
              "      fill: #174EA6;\n",
              "    }\n",
              "\n",
              "    [theme=dark] .colab-df-convert {\n",
              "      background-color: #3B4455;\n",
              "      fill: #D2E3FC;\n",
              "    }\n",
              "\n",
              "    [theme=dark] .colab-df-convert:hover {\n",
              "      background-color: #434B5C;\n",
              "      box-shadow: 0px 1px 3px 1px rgba(0, 0, 0, 0.15);\n",
              "      filter: drop-shadow(0px 1px 2px rgba(0, 0, 0, 0.3));\n",
              "      fill: #FFFFFF;\n",
              "    }\n",
              "  </style>\n",
              "\n",
              "      <script>\n",
              "        const buttonEl =\n",
              "          document.querySelector('#df-adc67079-ce83-4eb3-a579-01c5c5ed35f7 button.colab-df-convert');\n",
              "        buttonEl.style.display =\n",
              "          google.colab.kernel.accessAllowed ? 'block' : 'none';\n",
              "\n",
              "        async function convertToInteractive(key) {\n",
              "          const element = document.querySelector('#df-adc67079-ce83-4eb3-a579-01c5c5ed35f7');\n",
              "          const dataTable =\n",
              "            await google.colab.kernel.invokeFunction('convertToInteractive',\n",
              "                                                     [key], {});\n",
              "          if (!dataTable) return;\n",
              "\n",
              "          const docLinkHtml = 'Like what you see? Visit the ' +\n",
              "            '<a target=\"_blank\" href=https://colab.research.google.com/notebooks/data_table.ipynb>data table notebook</a>'\n",
              "            + ' to learn more about interactive tables.';\n",
              "          element.innerHTML = '';\n",
              "          dataTable['output_type'] = 'display_data';\n",
              "          await google.colab.output.renderOutput(dataTable, element);\n",
              "          const docLink = document.createElement('div');\n",
              "          docLink.innerHTML = docLinkHtml;\n",
              "          element.appendChild(docLink);\n",
              "        }\n",
              "      </script>\n",
              "    </div>\n",
              "  </div>\n",
              "  "
            ]
          },
          "metadata": {},
          "execution_count": 8
        }
      ],
      "source": [
        "#Get the statistical summary\n",
        "df.describe()"
      ]
    },
    {
      "cell_type": "markdown",
      "metadata": {
        "id": "wUP-_y82rSra"
      },
      "source": [
        "#Summary after Exploration phase:\n",
        "> *   The dataset has **9827** rows and **9** columns\n",
        "*   There is no missing values or duplicated values\n",
        "* **Release_Date** column has wrong data type, so it has to be casted into **date time** type and leave only the year \n",
        "* **Overview** and **Poster_Url** columns are useless during analysis, so we have to drop them\n",
        "\n",
        "\n",
        "\n",
        "\n",
        "\n",
        "\n",
        "\n",
        "\n",
        "\n"
      ]
    },
    {
      "cell_type": "markdown",
      "metadata": {
        "id": "xT9-CwpiU8Lz"
      },
      "source": [
        "#Data Cleaning "
      ]
    },
    {
      "cell_type": "code",
      "execution_count": 52,
      "metadata": {
        "colab": {
          "base_uri": "https://localhost:8080/",
          "height": 206
        },
        "id": "6wSrPIXvoi2F",
        "outputId": "e92526d8-9175-4176-acd2-4620112194f9"
      },
      "outputs": [
        {
          "output_type": "execute_result",
          "data": {
            "text/plain": [
              "   Release_Date                    Title  Popularity  Vote_Count  \\\n",
              "0          2021  Spider-Man: No Way Home    5083.954        8940   \n",
              "1          2021  Spider-Man: No Way Home    5083.954        8940   \n",
              "2          2021  Spider-Man: No Way Home    5083.954        8940   \n",
              "3          2022               The Batman    3827.658        1151   \n",
              "4          2022               The Batman    3827.658        1151   \n",
              "\n",
              "   Vote_Average Original_Language            Genre  \n",
              "0           8.3           English           Action  \n",
              "1           8.3           English        Adventure  \n",
              "2           8.3           English  Science Fiction  \n",
              "3           8.1           English            Crime  \n",
              "4           8.1           English          Mystery  "
            ],
            "text/html": [
              "\n",
              "  <div id=\"df-8a742f99-2433-4577-bae2-068d28a7816d\">\n",
              "    <div class=\"colab-df-container\">\n",
              "      <div>\n",
              "<style scoped>\n",
              "    .dataframe tbody tr th:only-of-type {\n",
              "        vertical-align: middle;\n",
              "    }\n",
              "\n",
              "    .dataframe tbody tr th {\n",
              "        vertical-align: top;\n",
              "    }\n",
              "\n",
              "    .dataframe thead th {\n",
              "        text-align: right;\n",
              "    }\n",
              "</style>\n",
              "<table border=\"1\" class=\"dataframe\">\n",
              "  <thead>\n",
              "    <tr style=\"text-align: right;\">\n",
              "      <th></th>\n",
              "      <th>Release_Date</th>\n",
              "      <th>Title</th>\n",
              "      <th>Popularity</th>\n",
              "      <th>Vote_Count</th>\n",
              "      <th>Vote_Average</th>\n",
              "      <th>Original_Language</th>\n",
              "      <th>Genre</th>\n",
              "    </tr>\n",
              "  </thead>\n",
              "  <tbody>\n",
              "    <tr>\n",
              "      <th>0</th>\n",
              "      <td>2021</td>\n",
              "      <td>Spider-Man: No Way Home</td>\n",
              "      <td>5083.954</td>\n",
              "      <td>8940</td>\n",
              "      <td>8.3</td>\n",
              "      <td>English</td>\n",
              "      <td>Action</td>\n",
              "    </tr>\n",
              "    <tr>\n",
              "      <th>1</th>\n",
              "      <td>2021</td>\n",
              "      <td>Spider-Man: No Way Home</td>\n",
              "      <td>5083.954</td>\n",
              "      <td>8940</td>\n",
              "      <td>8.3</td>\n",
              "      <td>English</td>\n",
              "      <td>Adventure</td>\n",
              "    </tr>\n",
              "    <tr>\n",
              "      <th>2</th>\n",
              "      <td>2021</td>\n",
              "      <td>Spider-Man: No Way Home</td>\n",
              "      <td>5083.954</td>\n",
              "      <td>8940</td>\n",
              "      <td>8.3</td>\n",
              "      <td>English</td>\n",
              "      <td>Science Fiction</td>\n",
              "    </tr>\n",
              "    <tr>\n",
              "      <th>3</th>\n",
              "      <td>2022</td>\n",
              "      <td>The Batman</td>\n",
              "      <td>3827.658</td>\n",
              "      <td>1151</td>\n",
              "      <td>8.1</td>\n",
              "      <td>English</td>\n",
              "      <td>Crime</td>\n",
              "    </tr>\n",
              "    <tr>\n",
              "      <th>4</th>\n",
              "      <td>2022</td>\n",
              "      <td>The Batman</td>\n",
              "      <td>3827.658</td>\n",
              "      <td>1151</td>\n",
              "      <td>8.1</td>\n",
              "      <td>English</td>\n",
              "      <td>Mystery</td>\n",
              "    </tr>\n",
              "  </tbody>\n",
              "</table>\n",
              "</div>\n",
              "      <button class=\"colab-df-convert\" onclick=\"convertToInteractive('df-8a742f99-2433-4577-bae2-068d28a7816d')\"\n",
              "              title=\"Convert this dataframe to an interactive table.\"\n",
              "              style=\"display:none;\">\n",
              "        \n",
              "  <svg xmlns=\"http://www.w3.org/2000/svg\" height=\"24px\"viewBox=\"0 0 24 24\"\n",
              "       width=\"24px\">\n",
              "    <path d=\"M0 0h24v24H0V0z\" fill=\"none\"/>\n",
              "    <path d=\"M18.56 5.44l.94 2.06.94-2.06 2.06-.94-2.06-.94-.94-2.06-.94 2.06-2.06.94zm-11 1L8.5 8.5l.94-2.06 2.06-.94-2.06-.94L8.5 2.5l-.94 2.06-2.06.94zm10 10l.94 2.06.94-2.06 2.06-.94-2.06-.94-.94-2.06-.94 2.06-2.06.94z\"/><path d=\"M17.41 7.96l-1.37-1.37c-.4-.4-.92-.59-1.43-.59-.52 0-1.04.2-1.43.59L10.3 9.45l-7.72 7.72c-.78.78-.78 2.05 0 2.83L4 21.41c.39.39.9.59 1.41.59.51 0 1.02-.2 1.41-.59l7.78-7.78 2.81-2.81c.8-.78.8-2.07 0-2.86zM5.41 20L4 18.59l7.72-7.72 1.47 1.35L5.41 20z\"/>\n",
              "  </svg>\n",
              "      </button>\n",
              "      \n",
              "  <style>\n",
              "    .colab-df-container {\n",
              "      display:flex;\n",
              "      flex-wrap:wrap;\n",
              "      gap: 12px;\n",
              "    }\n",
              "\n",
              "    .colab-df-convert {\n",
              "      background-color: #E8F0FE;\n",
              "      border: none;\n",
              "      border-radius: 50%;\n",
              "      cursor: pointer;\n",
              "      display: none;\n",
              "      fill: #1967D2;\n",
              "      height: 32px;\n",
              "      padding: 0 0 0 0;\n",
              "      width: 32px;\n",
              "    }\n",
              "\n",
              "    .colab-df-convert:hover {\n",
              "      background-color: #E2EBFA;\n",
              "      box-shadow: 0px 1px 2px rgba(60, 64, 67, 0.3), 0px 1px 3px 1px rgba(60, 64, 67, 0.15);\n",
              "      fill: #174EA6;\n",
              "    }\n",
              "\n",
              "    [theme=dark] .colab-df-convert {\n",
              "      background-color: #3B4455;\n",
              "      fill: #D2E3FC;\n",
              "    }\n",
              "\n",
              "    [theme=dark] .colab-df-convert:hover {\n",
              "      background-color: #434B5C;\n",
              "      box-shadow: 0px 1px 3px 1px rgba(0, 0, 0, 0.15);\n",
              "      filter: drop-shadow(0px 1px 2px rgba(0, 0, 0, 0.3));\n",
              "      fill: #FFFFFF;\n",
              "    }\n",
              "  </style>\n",
              "\n",
              "      <script>\n",
              "        const buttonEl =\n",
              "          document.querySelector('#df-8a742f99-2433-4577-bae2-068d28a7816d button.colab-df-convert');\n",
              "        buttonEl.style.display =\n",
              "          google.colab.kernel.accessAllowed ? 'block' : 'none';\n",
              "\n",
              "        async function convertToInteractive(key) {\n",
              "          const element = document.querySelector('#df-8a742f99-2433-4577-bae2-068d28a7816d');\n",
              "          const dataTable =\n",
              "            await google.colab.kernel.invokeFunction('convertToInteractive',\n",
              "                                                     [key], {});\n",
              "          if (!dataTable) return;\n",
              "\n",
              "          const docLinkHtml = 'Like what you see? Visit the ' +\n",
              "            '<a target=\"_blank\" href=https://colab.research.google.com/notebooks/data_table.ipynb>data table notebook</a>'\n",
              "            + ' to learn more about interactive tables.';\n",
              "          element.innerHTML = '';\n",
              "          dataTable['output_type'] = 'display_data';\n",
              "          await google.colab.output.renderOutput(dataTable, element);\n",
              "          const docLink = document.createElement('div');\n",
              "          docLink.innerHTML = docLinkHtml;\n",
              "          element.appendChild(docLink);\n",
              "        }\n",
              "      </script>\n",
              "    </div>\n",
              "  </div>\n",
              "  "
            ]
          },
          "metadata": {},
          "execution_count": 52
        }
      ],
      "source": [
        "#drop useless columns\n",
        "df.drop(columns = [\"Overview\", \"Poster_Url\"], inplace = True)\n",
        "df.head()"
      ]
    },
    {
      "cell_type": "markdown",
      "metadata": {
        "id": "yWboHQYDXY4R"
      },
      "source": [
        "**Release_Date Column**"
      ]
    },
    {
      "cell_type": "code",
      "execution_count": 34,
      "metadata": {
        "colab": {
          "base_uri": "https://localhost:8080/"
        },
        "id": "mig768VQXYMW",
        "outputId": "5e461a3d-afb8-40c6-ea58-6ca487c98c6c"
      },
      "outputs": [
        {
          "output_type": "stream",
          "name": "stdout",
          "text": [
            "datetime64[ns]\n"
          ]
        }
      ],
      "source": [
        "#Cast the Release_Date Column type into datetime type \n",
        "df[\"Release_Date\"] = pd.to_datetime(df[\"Release_Date\"])\n",
        "print(df[\"Release_Date\"].dtypes)"
      ]
    },
    {
      "cell_type": "code",
      "execution_count": 35,
      "metadata": {
        "colab": {
          "base_uri": "https://localhost:8080/",
          "height": 337
        },
        "id": "Fu8VVgeoZSEp",
        "outputId": "de0bf785-b469-4db0-c648-ef1df67c87a5"
      },
      "outputs": [
        {
          "output_type": "execute_result",
          "data": {
            "text/plain": [
              "   Release_Date                    Title  \\\n",
              "0          2021  Spider-Man: No Way Home   \n",
              "1          2022               The Batman   \n",
              "2          2022                  No Exit   \n",
              "3          2021                  Encanto   \n",
              "4          2021           The King's Man   \n",
              "\n",
              "                                            Overview  Popularity  Vote_Count  \\\n",
              "0  Peter Parker is unmasked and no longer able to...    5083.954        8940   \n",
              "1  In his second year of fighting crime, Batman u...    3827.658        1151   \n",
              "2  Stranded at a rest stop in the mountains durin...    2618.087         122   \n",
              "3  The tale of an extraordinary family, the Madri...    2402.201        5076   \n",
              "4  As a collection of history's worst tyrants and...    1895.511        1793   \n",
              "\n",
              "   Vote_Average Original_Language                               Genre  \\\n",
              "0           8.3                en  Action, Adventure, Science Fiction   \n",
              "1           8.1                en            Crime, Mystery, Thriller   \n",
              "2           6.3                en                            Thriller   \n",
              "3           7.7                en  Animation, Comedy, Family, Fantasy   \n",
              "4           7.0                en    Action, Adventure, Thriller, War   \n",
              "\n",
              "                                          Poster_Url  \n",
              "0  https://image.tmdb.org/t/p/original/1g0dhYtq4i...  \n",
              "1  https://image.tmdb.org/t/p/original/74xTEgt7R3...  \n",
              "2  https://image.tmdb.org/t/p/original/vDHsLnOWKl...  \n",
              "3  https://image.tmdb.org/t/p/original/4j0PNHkMr5...  \n",
              "4  https://image.tmdb.org/t/p/original/aq4Pwv5Xeu...  "
            ],
            "text/html": [
              "\n",
              "  <div id=\"df-c33f8d13-f479-4a9a-8585-de984b57b903\">\n",
              "    <div class=\"colab-df-container\">\n",
              "      <div>\n",
              "<style scoped>\n",
              "    .dataframe tbody tr th:only-of-type {\n",
              "        vertical-align: middle;\n",
              "    }\n",
              "\n",
              "    .dataframe tbody tr th {\n",
              "        vertical-align: top;\n",
              "    }\n",
              "\n",
              "    .dataframe thead th {\n",
              "        text-align: right;\n",
              "    }\n",
              "</style>\n",
              "<table border=\"1\" class=\"dataframe\">\n",
              "  <thead>\n",
              "    <tr style=\"text-align: right;\">\n",
              "      <th></th>\n",
              "      <th>Release_Date</th>\n",
              "      <th>Title</th>\n",
              "      <th>Overview</th>\n",
              "      <th>Popularity</th>\n",
              "      <th>Vote_Count</th>\n",
              "      <th>Vote_Average</th>\n",
              "      <th>Original_Language</th>\n",
              "      <th>Genre</th>\n",
              "      <th>Poster_Url</th>\n",
              "    </tr>\n",
              "  </thead>\n",
              "  <tbody>\n",
              "    <tr>\n",
              "      <th>0</th>\n",
              "      <td>2021</td>\n",
              "      <td>Spider-Man: No Way Home</td>\n",
              "      <td>Peter Parker is unmasked and no longer able to...</td>\n",
              "      <td>5083.954</td>\n",
              "      <td>8940</td>\n",
              "      <td>8.3</td>\n",
              "      <td>en</td>\n",
              "      <td>Action, Adventure, Science Fiction</td>\n",
              "      <td>https://image.tmdb.org/t/p/original/1g0dhYtq4i...</td>\n",
              "    </tr>\n",
              "    <tr>\n",
              "      <th>1</th>\n",
              "      <td>2022</td>\n",
              "      <td>The Batman</td>\n",
              "      <td>In his second year of fighting crime, Batman u...</td>\n",
              "      <td>3827.658</td>\n",
              "      <td>1151</td>\n",
              "      <td>8.1</td>\n",
              "      <td>en</td>\n",
              "      <td>Crime, Mystery, Thriller</td>\n",
              "      <td>https://image.tmdb.org/t/p/original/74xTEgt7R3...</td>\n",
              "    </tr>\n",
              "    <tr>\n",
              "      <th>2</th>\n",
              "      <td>2022</td>\n",
              "      <td>No Exit</td>\n",
              "      <td>Stranded at a rest stop in the mountains durin...</td>\n",
              "      <td>2618.087</td>\n",
              "      <td>122</td>\n",
              "      <td>6.3</td>\n",
              "      <td>en</td>\n",
              "      <td>Thriller</td>\n",
              "      <td>https://image.tmdb.org/t/p/original/vDHsLnOWKl...</td>\n",
              "    </tr>\n",
              "    <tr>\n",
              "      <th>3</th>\n",
              "      <td>2021</td>\n",
              "      <td>Encanto</td>\n",
              "      <td>The tale of an extraordinary family, the Madri...</td>\n",
              "      <td>2402.201</td>\n",
              "      <td>5076</td>\n",
              "      <td>7.7</td>\n",
              "      <td>en</td>\n",
              "      <td>Animation, Comedy, Family, Fantasy</td>\n",
              "      <td>https://image.tmdb.org/t/p/original/4j0PNHkMr5...</td>\n",
              "    </tr>\n",
              "    <tr>\n",
              "      <th>4</th>\n",
              "      <td>2021</td>\n",
              "      <td>The King's Man</td>\n",
              "      <td>As a collection of history's worst tyrants and...</td>\n",
              "      <td>1895.511</td>\n",
              "      <td>1793</td>\n",
              "      <td>7.0</td>\n",
              "      <td>en</td>\n",
              "      <td>Action, Adventure, Thriller, War</td>\n",
              "      <td>https://image.tmdb.org/t/p/original/aq4Pwv5Xeu...</td>\n",
              "    </tr>\n",
              "  </tbody>\n",
              "</table>\n",
              "</div>\n",
              "      <button class=\"colab-df-convert\" onclick=\"convertToInteractive('df-c33f8d13-f479-4a9a-8585-de984b57b903')\"\n",
              "              title=\"Convert this dataframe to an interactive table.\"\n",
              "              style=\"display:none;\">\n",
              "        \n",
              "  <svg xmlns=\"http://www.w3.org/2000/svg\" height=\"24px\"viewBox=\"0 0 24 24\"\n",
              "       width=\"24px\">\n",
              "    <path d=\"M0 0h24v24H0V0z\" fill=\"none\"/>\n",
              "    <path d=\"M18.56 5.44l.94 2.06.94-2.06 2.06-.94-2.06-.94-.94-2.06-.94 2.06-2.06.94zm-11 1L8.5 8.5l.94-2.06 2.06-.94-2.06-.94L8.5 2.5l-.94 2.06-2.06.94zm10 10l.94 2.06.94-2.06 2.06-.94-2.06-.94-.94-2.06-.94 2.06-2.06.94z\"/><path d=\"M17.41 7.96l-1.37-1.37c-.4-.4-.92-.59-1.43-.59-.52 0-1.04.2-1.43.59L10.3 9.45l-7.72 7.72c-.78.78-.78 2.05 0 2.83L4 21.41c.39.39.9.59 1.41.59.51 0 1.02-.2 1.41-.59l7.78-7.78 2.81-2.81c.8-.78.8-2.07 0-2.86zM5.41 20L4 18.59l7.72-7.72 1.47 1.35L5.41 20z\"/>\n",
              "  </svg>\n",
              "      </button>\n",
              "      \n",
              "  <style>\n",
              "    .colab-df-container {\n",
              "      display:flex;\n",
              "      flex-wrap:wrap;\n",
              "      gap: 12px;\n",
              "    }\n",
              "\n",
              "    .colab-df-convert {\n",
              "      background-color: #E8F0FE;\n",
              "      border: none;\n",
              "      border-radius: 50%;\n",
              "      cursor: pointer;\n",
              "      display: none;\n",
              "      fill: #1967D2;\n",
              "      height: 32px;\n",
              "      padding: 0 0 0 0;\n",
              "      width: 32px;\n",
              "    }\n",
              "\n",
              "    .colab-df-convert:hover {\n",
              "      background-color: #E2EBFA;\n",
              "      box-shadow: 0px 1px 2px rgba(60, 64, 67, 0.3), 0px 1px 3px 1px rgba(60, 64, 67, 0.15);\n",
              "      fill: #174EA6;\n",
              "    }\n",
              "\n",
              "    [theme=dark] .colab-df-convert {\n",
              "      background-color: #3B4455;\n",
              "      fill: #D2E3FC;\n",
              "    }\n",
              "\n",
              "    [theme=dark] .colab-df-convert:hover {\n",
              "      background-color: #434B5C;\n",
              "      box-shadow: 0px 1px 3px 1px rgba(0, 0, 0, 0.15);\n",
              "      filter: drop-shadow(0px 1px 2px rgba(0, 0, 0, 0.3));\n",
              "      fill: #FFFFFF;\n",
              "    }\n",
              "  </style>\n",
              "\n",
              "      <script>\n",
              "        const buttonEl =\n",
              "          document.querySelector('#df-c33f8d13-f479-4a9a-8585-de984b57b903 button.colab-df-convert');\n",
              "        buttonEl.style.display =\n",
              "          google.colab.kernel.accessAllowed ? 'block' : 'none';\n",
              "\n",
              "        async function convertToInteractive(key) {\n",
              "          const element = document.querySelector('#df-c33f8d13-f479-4a9a-8585-de984b57b903');\n",
              "          const dataTable =\n",
              "            await google.colab.kernel.invokeFunction('convertToInteractive',\n",
              "                                                     [key], {});\n",
              "          if (!dataTable) return;\n",
              "\n",
              "          const docLinkHtml = 'Like what you see? Visit the ' +\n",
              "            '<a target=\"_blank\" href=https://colab.research.google.com/notebooks/data_table.ipynb>data table notebook</a>'\n",
              "            + ' to learn more about interactive tables.';\n",
              "          element.innerHTML = '';\n",
              "          dataTable['output_type'] = 'display_data';\n",
              "          await google.colab.output.renderOutput(dataTable, element);\n",
              "          const docLink = document.createElement('div');\n",
              "          docLink.innerHTML = docLinkHtml;\n",
              "          element.appendChild(docLink);\n",
              "        }\n",
              "      </script>\n",
              "    </div>\n",
              "  </div>\n",
              "  "
            ]
          },
          "metadata": {},
          "execution_count": 35
        }
      ],
      "source": [
        "#Extract the year from Release_Date Column\n",
        "df[\"Release_Date\"] = pd.DatetimeIndex(df[\"Release_Date\"]).year\n",
        "df.head()"
      ]
    },
    {
      "cell_type": "code",
      "execution_count": 36,
      "metadata": {
        "colab": {
          "base_uri": "https://localhost:8080/"
        },
        "id": "wNAtdd6UbYeh",
        "outputId": "f3f8eb02-d5fa-4b5c-8552-776e15559177"
      },
      "outputs": [
        {
          "output_type": "execute_result",
          "data": {
            "text/plain": [
              "2021    714\n",
              "2018    530\n",
              "2017    510\n",
              "2019    500\n",
              "2016    470\n",
              "       ... \n",
              "1902      1\n",
              "1920      1\n",
              "2024      1\n",
              "1929      1\n",
              "1930      1\n",
              "Name: Release_Date, Length: 102, dtype: int64"
            ]
          },
          "metadata": {},
          "execution_count": 36
        }
      ],
      "source": [
        "df[\"Release_Date\"].value_counts()"
      ]
    },
    {
      "cell_type": "code",
      "execution_count": 37,
      "metadata": {
        "colab": {
          "base_uri": "https://localhost:8080/",
          "height": 297
        },
        "id": "mzyGwpmXizf-",
        "outputId": "afa73daf-19cc-4d84-eb0f-95435b3dd603"
      },
      "outputs": [
        {
          "output_type": "execute_result",
          "data": {
            "text/plain": [
              "<matplotlib.axes._subplots.AxesSubplot at 0x7fb114d65810>"
            ]
          },
          "metadata": {},
          "execution_count": 37
        },
        {
          "output_type": "display_data",
          "data": {
            "text/plain": [
              "<Figure size 432x288 with 1 Axes>"
            ],
            "image/png": "[encoded data removed]"
          },
          "metadata": {
            "needs_background": "light"
          }
        }
      ],
      "source": [
        "#check for outliers\n",
        "sns.boxplot(data= df, x = \"Release_Date\" )"
      ]
    },
    {
      "cell_type": "markdown",
      "metadata": {
        "id": "1LnKr_IGJEsW"
      },
      "source": [
        "**Vote_Average Column**"
      ]
    },
    {
      "cell_type": "code",
      "execution_count": 38,
      "metadata": {
        "colab": {
          "base_uri": "https://localhost:8080/"
        },
        "id": "gBiJohumJJtX",
        "outputId": "67accb7d-8cb5-4f70-ac28-54547f09e7e8"
      },
      "outputs": [
        {
          "output_type": "execute_result",
          "data": {
            "text/plain": [
              "array([ 8.3,  8.1,  6.3,  7.7,  7. ,  6.6,  6.8,  5.3,  7.2,  5.9,  7.3,\n",
              "        7.1,  5.1,  4.6,  6. ,  8.2,  5.4,  6.1,  8.4,  6.9,  5.8,  7.4,\n",
              "        7.8,  8. ,  6.2,  6.7,  7.6,  8.6,  4.8,  5.5,  7.9,  6.4,  7.5,\n",
              "        5.7,  2.2,  6.5,  0. ,  5.6,  5.2,  5. ,  8.5,  3.5,  4. ,  3.3,\n",
              "        4.7,  4.2,  4.3,  2. ,  4.1,  4.9,  8.7,  4.5,  9.1,  4.4,  3.6,\n",
              "        2.8,  3.9,  3.8,  9. ,  3. ,  3.1,  3.7,  3.4,  8.9,  2.9,  8.8,\n",
              "        3.2,  1.5,  9.2,  2.5,  1.8,  2.4,  2.6, 10. ])"
            ]
          },
          "metadata": {},
          "execution_count": 38
        }
      ],
      "source": [
        "df[\"Vote_Average\"].unique()"
      ]
    },
    {
      "cell_type": "markdown",
      "metadata": {
        "id": "wVBhjwjJL_xE"
      },
      "source": [
        "**Genre\tColumn**"
      ]
    },
    {
      "cell_type": "code",
      "execution_count": 39,
      "metadata": {
        "colab": {
          "base_uri": "https://localhost:8080/"
        },
        "id": "tJxRaUYwMP1y",
        "outputId": "f044e04b-5c8f-47ea-f62a-f5edf10a45c2"
      },
      "outputs": [
        {
          "output_type": "execute_result",
          "data": {
            "text/plain": [
              "array(['Action, Adventure, Science Fiction', 'Crime, Mystery, Thriller',\n",
              "       'Thriller', ..., 'Comedy, TV Movie, Romance',\n",
              "       'Science Fiction, Fantasy, Family, Music',\n",
              "       'War, Drama, Science Fiction'], dtype=object)"
            ]
          },
          "metadata": {},
          "execution_count": 39
        }
      ],
      "source": [
        "df[\"Genre\"].unique()"
      ]
    },
    {
      "cell_type": "code",
      "execution_count": 40,
      "metadata": {
        "colab": {
          "base_uri": "https://localhost:8080/"
        },
        "id": "Pg0jkd-mOGrj",
        "outputId": "0f1c659e-d77f-4f1f-dd3f-c806925f31bf"
      },
      "outputs": [
        {
          "output_type": "execute_result",
          "data": {
            "text/plain": [
              "0       [Action, Adventure, Science Fiction]\n",
              "1                 [Crime, Mystery, Thriller]\n",
              "2                                 [Thriller]\n",
              "3       [Animation, Comedy, Family, Fantasy]\n",
              "4         [Action, Adventure, Thriller, War]\n",
              "                        ...                 \n",
              "9822                          [Drama, Crime]\n",
              "9823                                [Horror]\n",
              "9824             [Mystery, Thriller, Horror]\n",
              "9825                 [Music, Drama, History]\n",
              "9826           [War, Drama, Science Fiction]\n",
              "Name: Genre, Length: 9827, dtype: object"
            ]
          },
          "metadata": {},
          "execution_count": 40
        }
      ],
      "source": [
        "#Split the genre in each row into lists\n",
        "df[\"Genre\"] = df[\"Genre\"].str.split(', ')\n",
        "df[\"Genre\"]"
      ]
    },
    {
      "cell_type": "code",
      "execution_count": 41,
      "metadata": {
        "colab": {
          "base_uri": "https://localhost:8080/",
          "height": 337
        },
        "id": "O-rr1IpjQAT-",
        "outputId": "177ceccb-996e-45d2-a3a7-29ee08a94e3c"
      },
      "outputs": [
        {
          "output_type": "execute_result",
          "data": {
            "text/plain": [
              "   Release_Date                    Title  \\\n",
              "0          2021  Spider-Man: No Way Home   \n",
              "1          2021  Spider-Man: No Way Home   \n",
              "2          2021  Spider-Man: No Way Home   \n",
              "3          2022               The Batman   \n",
              "4          2022               The Batman   \n",
              "\n",
              "                                            Overview  Popularity  Vote_Count  \\\n",
              "0  Peter Parker is unmasked and no longer able to...    5083.954        8940   \n",
              "1  Peter Parker is unmasked and no longer able to...    5083.954        8940   \n",
              "2  Peter Parker is unmasked and no longer able to...    5083.954        8940   \n",
              "3  In his second year of fighting crime, Batman u...    3827.658        1151   \n",
              "4  In his second year of fighting crime, Batman u...    3827.658        1151   \n",
              "\n",
              "   Vote_Average Original_Language            Genre  \\\n",
              "0           8.3                en           Action   \n",
              "1           8.3                en        Adventure   \n",
              "2           8.3                en  Science Fiction   \n",
              "3           8.1                en            Crime   \n",
              "4           8.1                en          Mystery   \n",
              "\n",
              "                                          Poster_Url  \n",
              "0  https://image.tmdb.org/t/p/original/1g0dhYtq4i...  \n",
              "1  https://image.tmdb.org/t/p/original/1g0dhYtq4i...  \n",
              "2  https://image.tmdb.org/t/p/original/1g0dhYtq4i...  \n",
              "3  https://image.tmdb.org/t/p/original/74xTEgt7R3...  \n",
              "4  https://image.tmdb.org/t/p/original/74xTEgt7R3...  "
            ],
            "text/html": [
              "\n",
              "  <div id=\"df-060d9f62-00ef-4d3b-af44-d9191972b156\">\n",
              "    <div class=\"colab-df-container\">\n",
              "      <div>\n",
              "<style scoped>\n",
              "    .dataframe tbody tr th:only-of-type {\n",
              "        vertical-align: middle;\n",
              "    }\n",
              "\n",
              "    .dataframe tbody tr th {\n",
              "        vertical-align: top;\n",
              "    }\n",
              "\n",
              "    .dataframe thead th {\n",
              "        text-align: right;\n",
              "    }\n",
              "</style>\n",
              "<table border=\"1\" class=\"dataframe\">\n",
              "  <thead>\n",
              "    <tr style=\"text-align: right;\">\n",
              "      <th></th>\n",
              "      <th>Release_Date</th>\n",
              "      <th>Title</th>\n",
              "      <th>Overview</th>\n",
              "      <th>Popularity</th>\n",
              "      <th>Vote_Count</th>\n",
              "      <th>Vote_Average</th>\n",
              "      <th>Original_Language</th>\n",
              "      <th>Genre</th>\n",
              "      <th>Poster_Url</th>\n",
              "    </tr>\n",
              "  </thead>\n",
              "  <tbody>\n",
              "    <tr>\n",
              "      <th>0</th>\n",
              "      <td>2021</td>\n",
              "      <td>Spider-Man: No Way Home</td>\n",
              "      <td>Peter Parker is unmasked and no longer able to...</td>\n",
              "      <td>5083.954</td>\n",
              "      <td>8940</td>\n",
              "      <td>8.3</td>\n",
              "      <td>en</td>\n",
              "      <td>Action</td>\n",
              "      <td>https://image.tmdb.org/t/p/original/1g0dhYtq4i...</td>\n",
              "    </tr>\n",
              "    <tr>\n",
              "      <th>1</th>\n",
              "      <td>2021</td>\n",
              "      <td>Spider-Man: No Way Home</td>\n",
              "      <td>Peter Parker is unmasked and no longer able to...</td>\n",
              "      <td>5083.954</td>\n",
              "      <td>8940</td>\n",
              "      <td>8.3</td>\n",
              "      <td>en</td>\n",
              "      <td>Adventure</td>\n",
              "      <td>https://image.tmdb.org/t/p/original/1g0dhYtq4i...</td>\n",
              "    </tr>\n",
              "    <tr>\n",
              "      <th>2</th>\n",
              "      <td>2021</td>\n",
              "      <td>Spider-Man: No Way Home</td>\n",
              "      <td>Peter Parker is unmasked and no longer able to...</td>\n",
              "      <td>5083.954</td>\n",
              "      <td>8940</td>\n",
              "      <td>8.3</td>\n",
              "      <td>en</td>\n",
              "      <td>Science Fiction</td>\n",
              "      <td>https://image.tmdb.org/t/p/original/1g0dhYtq4i...</td>\n",
              "    </tr>\n",
              "    <tr>\n",
              "      <th>3</th>\n",
              "      <td>2022</td>\n",
              "      <td>The Batman</td>\n",
              "      <td>In his second year of fighting crime, Batman u...</td>\n",
              "      <td>3827.658</td>\n",
              "      <td>1151</td>\n",
              "      <td>8.1</td>\n",
              "      <td>en</td>\n",
              "      <td>Crime</td>\n",
              "      <td>https://image.tmdb.org/t/p/original/74xTEgt7R3...</td>\n",
              "    </tr>\n",
              "    <tr>\n",
              "      <th>4</th>\n",
              "      <td>2022</td>\n",
              "      <td>The Batman</td>\n",
              "      <td>In his second year of fighting crime, Batman u...</td>\n",
              "      <td>3827.658</td>\n",
              "      <td>1151</td>\n",
              "      <td>8.1</td>\n",
              "      <td>en</td>\n",
              "      <td>Mystery</td>\n",
              "      <td>https://image.tmdb.org/t/p/original/74xTEgt7R3...</td>\n",
              "    </tr>\n",
              "  </tbody>\n",
              "</table>\n",
              "</div>\n",
              "      <button class=\"colab-df-convert\" onclick=\"convertToInteractive('df-060d9f62-00ef-4d3b-af44-d9191972b156')\"\n",
              "              title=\"Convert this dataframe to an interactive table.\"\n",
              "              style=\"display:none;\">\n",
              "        \n",
              "  <svg xmlns=\"http://www.w3.org/2000/svg\" height=\"24px\"viewBox=\"0 0 24 24\"\n",
              "       width=\"24px\">\n",
              "    <path d=\"M0 0h24v24H0V0z\" fill=\"none\"/>\n",
              "    <path d=\"M18.56 5.44l.94 2.06.94-2.06 2.06-.94-2.06-.94-.94-2.06-.94 2.06-2.06.94zm-11 1L8.5 8.5l.94-2.06 2.06-.94-2.06-.94L8.5 2.5l-.94 2.06-2.06.94zm10 10l.94 2.06.94-2.06 2.06-.94-2.06-.94-.94-2.06-.94 2.06-2.06.94z\"/><path d=\"M17.41 7.96l-1.37-1.37c-.4-.4-.92-.59-1.43-.59-.52 0-1.04.2-1.43.59L10.3 9.45l-7.72 7.72c-.78.78-.78 2.05 0 2.83L4 21.41c.39.39.9.59 1.41.59.51 0 1.02-.2 1.41-.59l7.78-7.78 2.81-2.81c.8-.78.8-2.07 0-2.86zM5.41 20L4 18.59l7.72-7.72 1.47 1.35L5.41 20z\"/>\n",
              "  </svg>\n",
              "      </button>\n",
              "      \n",
              "  <style>\n",
              "    .colab-df-container {\n",
              "      display:flex;\n",
              "      flex-wrap:wrap;\n",
              "      gap: 12px;\n",
              "    }\n",
              "\n",
              "    .colab-df-convert {\n",
              "      background-color: #E8F0FE;\n",
              "      border: none;\n",
              "      border-radius: 50%;\n",
              "      cursor: pointer;\n",
              "      display: none;\n",
              "      fill: #1967D2;\n",
              "      height: 32px;\n",
              "      padding: 0 0 0 0;\n",
              "      width: 32px;\n",
              "    }\n",
              "\n",
              "    .colab-df-convert:hover {\n",
              "      background-color: #E2EBFA;\n",
              "      box-shadow: 0px 1px 2px rgba(60, 64, 67, 0.3), 0px 1px 3px 1px rgba(60, 64, 67, 0.15);\n",
              "      fill: #174EA6;\n",
              "    }\n",
              "\n",
              "    [theme=dark] .colab-df-convert {\n",
              "      background-color: #3B4455;\n",
              "      fill: #D2E3FC;\n",
              "    }\n",
              "\n",
              "    [theme=dark] .colab-df-convert:hover {\n",
              "      background-color: #434B5C;\n",
              "      box-shadow: 0px 1px 3px 1px rgba(0, 0, 0, 0.15);\n",
              "      filter: drop-shadow(0px 1px 2px rgba(0, 0, 0, 0.3));\n",
              "      fill: #FFFFFF;\n",
              "    }\n",
              "  </style>\n",
              "\n",
              "      <script>\n",
              "        const buttonEl =\n",
              "          document.querySelector('#df-060d9f62-00ef-4d3b-af44-d9191972b156 button.colab-df-convert');\n",
              "        buttonEl.style.display =\n",
              "          google.colab.kernel.accessAllowed ? 'block' : 'none';\n",
              "\n",
              "        async function convertToInteractive(key) {\n",
              "          const element = document.querySelector('#df-060d9f62-00ef-4d3b-af44-d9191972b156');\n",
              "          const dataTable =\n",
              "            await google.colab.kernel.invokeFunction('convertToInteractive',\n",
              "                                                     [key], {});\n",
              "          if (!dataTable) return;\n",
              "\n",
              "          const docLinkHtml = 'Like what you see? Visit the ' +\n",
              "            '<a target=\"_blank\" href=https://colab.research.google.com/notebooks/data_table.ipynb>data table notebook</a>'\n",
              "            + ' to learn more about interactive tables.';\n",
              "          element.innerHTML = '';\n",
              "          dataTable['output_type'] = 'display_data';\n",
              "          await google.colab.output.renderOutput(dataTable, element);\n",
              "          const docLink = document.createElement('div');\n",
              "          docLink.innerHTML = docLinkHtml;\n",
              "          element.appendChild(docLink);\n",
              "        }\n",
              "      </script>\n",
              "    </div>\n",
              "  </div>\n",
              "  "
            ]
          },
          "metadata": {},
          "execution_count": 41
        }
      ],
      "source": [
        "#Explode the lists\n",
        "df = df.explode(\"Genre\").reset_index(drop=True)\n",
        "df.head()\n"
      ]
    },
    {
      "cell_type": "code",
      "execution_count": 42,
      "metadata": {
        "colab": {
          "base_uri": "https://localhost:8080/"
        },
        "id": "VfGiq8Qi9pZt",
        "outputId": "91da32f6-7760-46f0-a8f7-c9a566ca01bb"
      },
      "outputs": [
        {
          "output_type": "execute_result",
          "data": {
            "text/plain": [
              "(25793, 9)"
            ]
          },
          "metadata": {},
          "execution_count": 42
        }
      ],
      "source": [
        "#Check for the number of rows after the spliting\n",
        "df.shape"
      ]
    },
    {
      "cell_type": "markdown",
      "metadata": {
        "id": "l7SdI4H4AHTt"
      },
      "source": [
        "**Original_Language Column**"
      ]
    },
    {
      "cell_type": "code",
      "execution_count": 19,
      "metadata": {
        "colab": {
          "base_uri": "https://localhost:8080/"
        },
        "id": "tYAAwuyI9jRE",
        "outputId": "33900ec3-13ea-4379-a70c-abcc89e07573"
      },
      "outputs": [
        {
          "output_type": "execute_result",
          "data": {
            "text/plain": [
              "en    20019\n",
              "ja     2025\n",
              "fr      692\n",
              "es      659\n",
              "ko      420\n",
              "zh      364\n",
              "cn      299\n",
              "it      251\n",
              "ru      229\n",
              "de      198\n",
              "pt       72\n",
              "da       63\n",
              "no       62\n",
              "hi       61\n",
              "sv       58\n",
              "nl       46\n",
              "th       45\n",
              "pl       37\n",
              "id       35\n",
              "tr       27\n",
              "te       15\n",
              "tl       13\n",
              "sr       13\n",
              "fi       12\n",
              "el        9\n",
              "cs        8\n",
              "hu        8\n",
              "uk        7\n",
              "is        6\n",
              "fa        6\n",
              "ta        5\n",
              "ro        4\n",
              "he        4\n",
              "ar        4\n",
              "ml        3\n",
              "eu        3\n",
              "nb        2\n",
              "bn        2\n",
              "ms        2\n",
              "et        2\n",
              "ca        1\n",
              "la        1\n",
              "lv        1\n",
              "Name: Original_Language, dtype: int64"
            ]
          },
          "metadata": {},
          "execution_count": 19
        }
      ],
      "source": [
        "#Check the number of values for each language\n",
        "df[\"Original_Language\"].value_counts()"
      ]
    },
    {
      "cell_type": "code",
      "execution_count": null,
      "metadata": {
        "id": "fLLjPmBQ-KKy"
      },
      "outputs": [],
      "source": [
        "#set the some languages to \"other\" value\n",
        "df.Original_Language[~df['Original_Language'].isin([\"en\",\"ja\",\"es\",\"fr\",\"ko\",\"zh\"])]=\"Other\""
      ]
    },
    {
      "cell_type": "code",
      "source": [
        "#Rename Original Language column using Language Code Table\n",
        "df[\"Original_Language\"] = df[\"Original_Language\"].replace({\"en\": \"English\", \"ja\" : \"Japanese\", \"es\" : \"Spanish\", \"fr\" : \"French\", \"ko\" : \"Korean\", \"zh\" : \"Chinese\"})"
      ],
      "metadata": {
        "id": "tS7ixcA0FuFD"
      },
      "execution_count": 44,
      "outputs": []
    },
    {
      "cell_type": "code",
      "execution_count": 45,
      "metadata": {
        "colab": {
          "base_uri": "https://localhost:8080/"
        },
        "id": "uNO0edP9_Bjp",
        "outputId": "4f907f3c-8e95-4e1d-ad81-fe41053df916"
      },
      "outputs": [
        {
          "output_type": "execute_result",
          "data": {
            "text/plain": [
              "array(['English', 'Japanese', 'French', 'Other', 'Spanish', 'Korean',\n",
              "       'Chinese'], dtype=object)"
            ]
          },
          "metadata": {},
          "execution_count": 45
        }
      ],
      "source": [
        "#Check for unique values after grouping \n",
        "df[\"Original_Language\"].unique()"
      ]
    },
    {
      "cell_type": "markdown",
      "metadata": {
        "id": "6QUBrvfRkNXG"
      },
      "source": [
        "#Data Visualization "
      ]
    },
    {
      "cell_type": "markdown",
      "metadata": {
        "id": "y9G6wUfY02Hb"
      },
      "source": [
        "**Q1: Which year has the most number of released movies?**"
      ]
    },
    {
      "cell_type": "code",
      "execution_count": 46,
      "metadata": {
        "colab": {
          "base_uri": "https://localhost:8080/",
          "height": 313
        },
        "id": "WQkDejv7dW7H",
        "outputId": "413719bf-dcfb-4f79-f72a-8577fa38f925"
      },
      "outputs": [
        {
          "output_type": "execute_result",
          "data": {
            "text/plain": [
              "Text(0.5, 1.0, 'Release Date Histogram ')"
            ]
          },
          "metadata": {},
          "execution_count": 46
        },
        {
          "output_type": "display_data",
          "data": {
            "text/plain": [
              "<Figure size 432x288 with 1 Axes>"
            ],
            "image/png": "[encoded data removed]"
          },
          "metadata": {}
        }
      ],
      "source": [
        "#Visualizing Release Date column\n",
        "sns.set_style(\"whitegrid\") \n",
        "sns.histplot(data= df, x= \"Release_Date\" , binwidth=4)\n",
        "plt.title(\"Release Date Histogram \")"
      ]
    },
    {
      "cell_type": "markdown",
      "metadata": {
        "id": "kJaJgRy3zSEV"
      },
      "source": [
        "**Q2: What is the language in which movies are made the most in the dataset?**"
      ]
    },
    {
      "cell_type": "code",
      "execution_count": 47,
      "metadata": {
        "colab": {
          "base_uri": "https://localhost:8080/",
          "height": 438
        },
        "id": "9EU0-ZXY9uqo",
        "outputId": "1f838a7a-fc29-474d-8227-3a6fe63ed398"
      },
      "outputs": [
        {
          "output_type": "execute_result",
          "data": {
            "text/plain": [
              "(array([0, 1, 2, 3, 4, 5, 6]), <a list of 7 Text major ticklabel objects>)"
            ]
          },
          "metadata": {},
          "execution_count": 47
        },
        {
          "output_type": "display_data",
          "data": {
            "text/plain": [
              "<Figure size 360x360 with 1 Axes>"
            ],
            "image/png": "[encoded data removed]"
          },
          "metadata": {}
        }
      ],
      "source": [
        "#Visualizing language column\n",
        "order = [\"English\", \"Japanese\",  \"Spanish\",  \"French\", \"Korean\", \"Chinese\", \"Other\"]\n",
        "sns.catplot(data= df,\n",
        "              x= \"Original_Language\" ,\n",
        "              order = order,\n",
        "            kind = \"count\",\n",
        "            palette = \"RdBu\")\n",
        "plt.title('language Distribution')\n",
        "plt.xticks(rotation=90)\n"
      ]
    },
    {
      "cell_type": "markdown",
      "metadata": {
        "id": "Z5hC3sxnyDU2"
      },
      "source": [
        "**Q3: What is the most popular genre in the dataset?**\n"
      ]
    },
    {
      "cell_type": "code",
      "execution_count": 48,
      "metadata": {
        "colab": {
          "base_uri": "https://localhost:8080/"
        },
        "id": "GBVjelHGymUA",
        "outputId": "a0b24589-9164-44b6-e87c-43d013114f22"
      },
      "outputs": [
        {
          "output_type": "execute_result",
          "data": {
            "text/plain": [
              "count     25793\n",
              "unique       19\n",
              "top       Drama\n",
              "freq       3744\n",
              "Name: Genre, dtype: object"
            ]
          },
          "metadata": {},
          "execution_count": 48
        }
      ],
      "source": [
        "#Showing statistical summary about genre column\n",
        "df[\"Genre\"].describe()"
      ]
    },
    {
      "cell_type": "code",
      "execution_count": 55,
      "metadata": {
        "colab": {
          "base_uri": "https://localhost:8080/",
          "height": 402
        },
        "id": "ERgfdcZn-CCg",
        "outputId": "41d0a959-aa8a-43da-f77d-f7d569bf9997"
      },
      "outputs": [
        {
          "output_type": "execute_result",
          "data": {
            "text/plain": [
              "Text(0.5, 1.0, 'Genre Distribution')"
            ]
          },
          "metadata": {},
          "execution_count": 55
        },
        {
          "output_type": "display_data",
          "data": {
            "text/plain": [
              "<Figure size 360x360 with 1 Axes>"
            ],
            "image/png": "[encoded data removed]"
          },
          "metadata": {}
        }
      ],
      "source": [
        "#Visualizing genre column\n",
        "sns.catplot(y = \"Genre\", data = df, kind = \"count\", \n",
        "            order = df['Genre'].value_counts().index,\n",
        "            palette = \"PuRd\")\n",
        "plt.title('Genre Distribution')\n"
      ]
    },
    {
      "cell_type": "markdown",
      "source": [
        "**Q4: What genres have highest votes?**"
      ],
      "metadata": {
        "id": "mMKx0iO2CWdx"
      }
    },
    {
      "cell_type": "code",
      "execution_count": 58,
      "metadata": {
        "colab": {
          "base_uri": "https://localhost:8080/",
          "height": 485
        },
        "id": "vjfRcefOAKCo",
        "outputId": "1b42014b-d645-42e7-8a6f-ea219e190381"
      },
      "outputs": [
        {
          "output_type": "execute_result",
          "data": {
            "text/plain": [
              "(array([ 0,  1,  2,  3,  4,  5,  6,  7,  8,  9, 10, 11, 12, 13, 14, 15, 16,\n",
              "        17, 18]), <a list of 19 Text major ticklabel objects>)"
            ]
          },
          "metadata": {},
          "execution_count": 58
        },
        {
          "output_type": "display_data",
          "data": {
            "text/plain": [
              "<Figure size 360x360 with 1 Axes>"
            ],
            "image/png": "[encoded data removed]"
          },
          "metadata": {}
        }
      ],
      "source": [
        "sns.catplot(x = \"Genre\", y =\"Vote_Count\", data = df, kind = \"bar\",\n",
        "            color= \"G\"\n",
        "            ,ci = None)\n",
        "plt.title(\"Genre Distribution\")\n",
        "plt.xticks(rotation=90)\n"
      ]
    },
    {
      "cell_type": "markdown",
      "metadata": {
        "id": "dpNJrOrv75uu"
      },
      "source": [
        "**Q5: Which movie got the highest popularity? what's its genre?**"
      ]
    },
    {
      "cell_type": "code",
      "execution_count": 53,
      "metadata": {
        "colab": {
          "base_uri": "https://localhost:8080/",
          "height": 143
        },
        "id": "fvajVbWR8HJN",
        "outputId": "9ae0471b-618b-4a3c-cd37-fc518685230a"
      },
      "outputs": [
        {
          "output_type": "execute_result",
          "data": {
            "text/plain": [
              "   Release_Date                    Title  Popularity  Vote_Count  \\\n",
              "0          2021  Spider-Man: No Way Home    5083.954        8940   \n",
              "1          2021  Spider-Man: No Way Home    5083.954        8940   \n",
              "2          2021  Spider-Man: No Way Home    5083.954        8940   \n",
              "\n",
              "   Vote_Average Original_Language            Genre  \n",
              "0           8.3           English           Action  \n",
              "1           8.3           English        Adventure  \n",
              "2           8.3           English  Science Fiction  "
            ],
            "text/html": [
              "\n",
              "  <div id=\"df-80133a9a-f909-447c-adbd-5985fe002264\">\n",
              "    <div class=\"colab-df-container\">\n",
              "      <div>\n",
              "<style scoped>\n",
              "    .dataframe tbody tr th:only-of-type {\n",
              "        vertical-align: middle;\n",
              "    }\n",
              "\n",
              "    .dataframe tbody tr th {\n",
              "        vertical-align: top;\n",
              "    }\n",
              "\n",
              "    .dataframe thead th {\n",
              "        text-align: right;\n",
              "    }\n",
              "</style>\n",
              "<table border=\"1\" class=\"dataframe\">\n",
              "  <thead>\n",
              "    <tr style=\"text-align: right;\">\n",
              "      <th></th>\n",
              "      <th>Release_Date</th>\n",
              "      <th>Title</th>\n",
              "      <th>Popularity</th>\n",
              "      <th>Vote_Count</th>\n",
              "      <th>Vote_Average</th>\n",
              "      <th>Original_Language</th>\n",
              "      <th>Genre</th>\n",
              "    </tr>\n",
              "  </thead>\n",
              "  <tbody>\n",
              "    <tr>\n",
              "      <th>0</th>\n",
              "      <td>2021</td>\n",
              "      <td>Spider-Man: No Way Home</td>\n",
              "      <td>5083.954</td>\n",
              "      <td>8940</td>\n",
              "      <td>8.3</td>\n",
              "      <td>English</td>\n",
              "      <td>Action</td>\n",
              "    </tr>\n",
              "    <tr>\n",
              "      <th>1</th>\n",
              "      <td>2021</td>\n",
              "      <td>Spider-Man: No Way Home</td>\n",
              "      <td>5083.954</td>\n",
              "      <td>8940</td>\n",
              "      <td>8.3</td>\n",
              "      <td>English</td>\n",
              "      <td>Adventure</td>\n",
              "    </tr>\n",
              "    <tr>\n",
              "      <th>2</th>\n",
              "      <td>2021</td>\n",
              "      <td>Spider-Man: No Way Home</td>\n",
              "      <td>5083.954</td>\n",
              "      <td>8940</td>\n",
              "      <td>8.3</td>\n",
              "      <td>English</td>\n",
              "      <td>Science Fiction</td>\n",
              "    </tr>\n",
              "  </tbody>\n",
              "</table>\n",
              "</div>\n",
              "      <button class=\"colab-df-convert\" onclick=\"convertToInteractive('df-80133a9a-f909-447c-adbd-5985fe002264')\"\n",
              "              title=\"Convert this dataframe to an interactive table.\"\n",
              "              style=\"display:none;\">\n",
              "        \n",
              "  <svg xmlns=\"http://www.w3.org/2000/svg\" height=\"24px\"viewBox=\"0 0 24 24\"\n",
              "       width=\"24px\">\n",
              "    <path d=\"M0 0h24v24H0V0z\" fill=\"none\"/>\n",
              "    <path d=\"M18.56 5.44l.94 2.06.94-2.06 2.06-.94-2.06-.94-.94-2.06-.94 2.06-2.06.94zm-11 1L8.5 8.5l.94-2.06 2.06-.94-2.06-.94L8.5 2.5l-.94 2.06-2.06.94zm10 10l.94 2.06.94-2.06 2.06-.94-2.06-.94-.94-2.06-.94 2.06-2.06.94z\"/><path d=\"M17.41 7.96l-1.37-1.37c-.4-.4-.92-.59-1.43-.59-.52 0-1.04.2-1.43.59L10.3 9.45l-7.72 7.72c-.78.78-.78 2.05 0 2.83L4 21.41c.39.39.9.59 1.41.59.51 0 1.02-.2 1.41-.59l7.78-7.78 2.81-2.81c.8-.78.8-2.07 0-2.86zM5.41 20L4 18.59l7.72-7.72 1.47 1.35L5.41 20z\"/>\n",
              "  </svg>\n",
              "      </button>\n",
              "      \n",
              "  <style>\n",
              "    .colab-df-container {\n",
              "      display:flex;\n",
              "      flex-wrap:wrap;\n",
              "      gap: 12px;\n",
              "    }\n",
              "\n",
              "    .colab-df-convert {\n",
              "      background-color: #E8F0FE;\n",
              "      border: none;\n",
              "      border-radius: 50%;\n",
              "      cursor: pointer;\n",
              "      display: none;\n",
              "      fill: #1967D2;\n",
              "      height: 32px;\n",
              "      padding: 0 0 0 0;\n",
              "      width: 32px;\n",
              "    }\n",
              "\n",
              "    .colab-df-convert:hover {\n",
              "      background-color: #E2EBFA;\n",
              "      box-shadow: 0px 1px 2px rgba(60, 64, 67, 0.3), 0px 1px 3px 1px rgba(60, 64, 67, 0.15);\n",
              "      fill: #174EA6;\n",
              "    }\n",
              "\n",
              "    [theme=dark] .colab-df-convert {\n",
              "      background-color: #3B4455;\n",
              "      fill: #D2E3FC;\n",
              "    }\n",
              "\n",
              "    [theme=dark] .colab-df-convert:hover {\n",
              "      background-color: #434B5C;\n",
              "      box-shadow: 0px 1px 3px 1px rgba(0, 0, 0, 0.15);\n",
              "      filter: drop-shadow(0px 1px 2px rgba(0, 0, 0, 0.3));\n",
              "      fill: #FFFFFF;\n",
              "    }\n",
              "  </style>\n",
              "\n",
              "      <script>\n",
              "        const buttonEl =\n",
              "          document.querySelector('#df-80133a9a-f909-447c-adbd-5985fe002264 button.colab-df-convert');\n",
              "        buttonEl.style.display =\n",
              "          google.colab.kernel.accessAllowed ? 'block' : 'none';\n",
              "\n",
              "        async function convertToInteractive(key) {\n",
              "          const element = document.querySelector('#df-80133a9a-f909-447c-adbd-5985fe002264');\n",
              "          const dataTable =\n",
              "            await google.colab.kernel.invokeFunction('convertToInteractive',\n",
              "                                                     [key], {});\n",
              "          if (!dataTable) return;\n",
              "\n",
              "          const docLinkHtml = 'Like what you see? Visit the ' +\n",
              "            '<a target=\"_blank\" href=https://colab.research.google.com/notebooks/data_table.ipynb>data table notebook</a>'\n",
              "            + ' to learn more about interactive tables.';\n",
              "          element.innerHTML = '';\n",
              "          dataTable['output_type'] = 'display_data';\n",
              "          await google.colab.output.renderOutput(dataTable, element);\n",
              "          const docLink = document.createElement('div');\n",
              "          docLink.innerHTML = docLinkHtml;\n",
              "          element.appendChild(docLink);\n",
              "        }\n",
              "      </script>\n",
              "    </div>\n",
              "  </div>\n",
              "  "
            ]
          },
          "metadata": {},
          "execution_count": 53
        }
      ],
      "source": [
        "#Check for the highest popularity in the dataset using filtering\n",
        "df[df[\"Popularity\"] == df[\"Popularity\"].max()]"
      ]
    }
  ],
  "metadata": {
    "colab": {
      "collapsed_sections": [],
      "provenance": []
    },
    "kernelspec": {
      "display_name": "Python 3",
      "name": "python3"
    },
    "language_info": {
      "name": "python"
    }
  },
  "nbformat": 4,
  "nbformat_minor": 0
}